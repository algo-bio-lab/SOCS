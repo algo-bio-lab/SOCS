{
 "cells": [
  {
   "cell_type": "markdown",
   "id": "157d35ca",
   "metadata": {},
   "source": [
    "### Simple test notebook\n",
    "This notebook is a simple test of the functionality of the SOCS method with a very small dataset, to ensure that the software works properly."
   ]
  },
  {
   "cell_type": "code",
   "execution_count": 1,
   "id": "2d45acb2",
   "metadata": {},
   "outputs": [
    {
     "name": "stderr",
     "output_type": "stream",
     "text": [
      "//broad/clearylab/Users/Peter/anaconda3/envs/myEnv/lib/python3.9/site-packages/pandas/core/computation/expressions.py:21: UserWarning: Pandas requires version '2.8.4' or newer of 'numexpr' (version '2.7.3' currently installed).\n",
      "  from pandas.core.computation.check import NUMEXPR_INSTALLED\n",
      "2025-02-18 15:26:26.955525: I tensorflow/core/util/port.cc:153] oneDNN custom operations are on. You may see slightly different numerical results due to floating-point round-off errors from different computation orders. To turn them off, set the environment variable `TF_ENABLE_ONEDNN_OPTS=0`.\n",
      "2025-02-18 15:26:26.984930: E external/local_xla/xla/stream_executor/cuda/cuda_fft.cc:485] Unable to register cuFFT factory: Attempting to register factory for plugin cuFFT when one has already been registered\n",
      "2025-02-18 15:26:27.019373: E external/local_xla/xla/stream_executor/cuda/cuda_dnn.cc:8454] Unable to register cuDNN factory: Attempting to register factory for plugin cuDNN when one has already been registered\n",
      "2025-02-18 15:26:27.029988: E external/local_xla/xla/stream_executor/cuda/cuda_blas.cc:1452] Unable to register cuBLAS factory: Attempting to register factory for plugin cuBLAS when one has already been registered\n",
      "2025-02-18 15:26:27.056621: I tensorflow/core/platform/cpu_feature_guard.cc:210] This TensorFlow binary is optimized to use available CPU instructions in performance-critical operations.\n",
      "To enable the following instructions: AVX2 AVX512F AVX512_VNNI FMA, in other operations, rebuild TensorFlow with the appropriate compiler flags.\n",
      "2025-02-18 15:26:29.881120: W tensorflow/compiler/tf2tensorrt/utils/py_utils.cc:38] TF-TRT Warning: Could not find TensorRT\n"
     ]
    }
   ],
   "source": [
    "import matplotlib.pyplot as plt\n",
    "import numpy as np\n",
    "import pandas as pd\n",
    "import scipy.io as io\n",
    "from scipy import stats\n",
    "import scanpy as sc\n",
    "import anndata as ad\n",
    "import squidpy as sq\n",
    "import copy\n",
    "import seaborn as sns\n",
    "import pickle\n",
    "import math\n",
    "import sklearn\n",
    "import torch\n",
    "import socs\n",
    "from socs.utils import row_normalize\n",
    "from socs.analysis import map_vector_sampled,hillNumber_1,vec2vec"
   ]
  },
  {
   "cell_type": "markdown",
   "id": "cab49cae",
   "metadata": {},
   "source": [
    "We'll load in a very small sample from the two timepoints in the MERFISH mouse ovary datasets."
   ]
  },
  {
   "cell_type": "code",
   "execution_count": 12,
   "id": "854d61ef",
   "metadata": {},
   "outputs": [],
   "source": [
    "adata_1 = sc.read_h5ad('example_data/adata_1_follicle.h5ad')\n",
    "adata_2 = sc.read_h5ad('example_data/adata_2_follicle.h5ad')\n",
    "adata_1.obs['time'] = 0\n",
    "adata_2.obs['time'] = 1"
   ]
  },
  {
   "cell_type": "markdown",
   "id": "7288a816",
   "metadata": {},
   "source": [
    "We'll concatenate these two datasets, and perform principal component analysis on the combined object's gene expression count table. "
   ]
  },
  {
   "cell_type": "code",
   "execution_count": 13,
   "id": "495ea479",
   "metadata": {},
   "outputs": [
    {
     "name": "stderr",
     "output_type": "stream",
     "text": [
      "//broad/clearylab/Users/Peter/anaconda3/envs/myEnv/lib/python3.9/site-packages/anndata/_core/anndata.py:1906: UserWarning: Observation names are not unique. To make them unique, call `.obs_names_make_unique`.\n",
      "  utils.warn_names_duplicates(\"obs\")\n"
     ]
    }
   ],
   "source": [
    "adata_concat= ad.concat([adata_1,adata_2])\n",
    "sc.pp.pca(adata_concat, random_state= 0,n_comps=30)\n",
    "adata_concat_1 = adata_concat[0:adata_1.shape[0],:]\n",
    "adata_concat_2 = adata_concat[adata_1.shape[0]:,:]"
   ]
  },
  {
   "cell_type": "markdown",
   "id": "09138e0f",
   "metadata": {},
   "source": [
    "Then, we'll set up the SOCS problem using the class SOCSModel, using a set of parameters $\\alpha$, $\\epsilon$, $\\rho_1$, and $\\rho_2$, as described in __Methods__"
   ]
  },
  {
   "cell_type": "markdown",
   "id": "62fc1feb",
   "metadata": {},
   "source": [
    "Finally, we'll use the SOCS algorithm to estimate the trajectory mapping $T$ between the samples at $t_1$ and $t_2$."
   ]
  },
  {
   "cell_type": "code",
   "execution_count": 14,
   "id": "8ba6eb92",
   "metadata": {},
   "outputs": [],
   "source": [
    "alpha = 0.5\n",
    "eps = 2e-4\n",
    "rho1 = 5000.0\n",
    "rho2 = 5000.0\n",
    "socs_model = socs.ot.SOCSModel(adata_concat,'time',expr_key='X_pca',struct_key='struct',alpha=alpha,eps=eps,rho=rho1,rho2=rho2)"
   ]
  },
  {
   "cell_type": "markdown",
   "id": "4f833c55",
   "metadata": {},
   "source": [
    "We then use this SOCS problem to learn a transport map $T$, where element $(i,j)$ of $T$ is related to the probability that cell $i$ at $t_1$ maps to cell $j$ at $t_2$"
   ]
  },
  {
   "cell_type": "code",
   "execution_count": 15,
   "id": "09368722",
   "metadata": {},
   "outputs": [],
   "source": [
    "T_socs = socs_model.infer_map(0,1)"
   ]
  }
 ],
 "metadata": {
  "kernelspec": {
   "display_name": "Python 3 (ipykernel)",
   "language": "python",
   "name": "python3"
  },
  "language_info": {
   "codemirror_mode": {
    "name": "ipython",
    "version": 3
   },
   "file_extension": ".py",
   "mimetype": "text/x-python",
   "name": "python",
   "nbconvert_exporter": "python",
   "pygments_lexer": "ipython3",
   "version": "3.9.7"
  }
 },
 "nbformat": 4,
 "nbformat_minor": 5
}
